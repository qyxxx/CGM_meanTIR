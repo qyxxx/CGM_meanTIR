{
 "cells": [
  {
   "cell_type": "code",
   "execution_count": 1,
   "metadata": {},
   "outputs": [],
   "source": [
    "import numpy as np\n",
    "import pandas as pd\n",
    "from tableone import TableOne\n",
    "\n",
    "import sys\n",
    "sys.path.append('src/')\n",
    "import tir as tir"
   ]
  },
  {
   "cell_type": "markdown",
   "metadata": {},
   "source": [
    "## Load dataSample\n",
    "\n",
    "An input dataset for *tir* is a dataframe containing time to each CGM readings along with time-dependent or time-independent covariates of interest. The input dataset should take long format, where\n",
    "each row contains the information in one time interval in which a CGM is observed. As such, multiple rows in the dataset may correspond to one subject. \n",
    "\n",
    "*dataSample* is a simulated dataset perturbated from a real dataset. *dataSample* contains 50 subjects. For each subject, *dataSample* contains values for the following eight variables: *patient_id*, which is the unique identifier for each subject; *glucose*, which is the CGM reading; *value_in_range_70_180*, which indicates wheter the CGM readings in the 70-180mg/dL range (=1) or not (=0); *time*, which records the starting time in minutes of the CGM reading interval; *time2*, which records the ending time in minutes of the CGM reading interval; x1, which is a binary covariate; x2, which is a continuous covariate; *event*, which indicates whether the patient is discharged (event = 1) or not (event = 0) at the end of the CGM reading interval.\n",
    "\n"
   ]
  },
  {
   "cell_type": "code",
   "execution_count": 2,
   "metadata": {},
   "outputs": [
    {
     "data": {
      "text/html": [
       "<div>\n",
       "<style scoped>\n",
       "    .dataframe tbody tr th:only-of-type {\n",
       "        vertical-align: middle;\n",
       "    }\n",
       "\n",
       "    .dataframe tbody tr th {\n",
       "        vertical-align: top;\n",
       "    }\n",
       "\n",
       "    .dataframe thead th {\n",
       "        text-align: right;\n",
       "    }\n",
       "</style>\n",
       "<table border=\"1\" class=\"dataframe\">\n",
       "  <thead>\n",
       "    <tr style=\"text-align: right;\">\n",
       "      <th></th>\n",
       "      <th>patient_id</th>\n",
       "      <th>glucose</th>\n",
       "      <th>value_in_range_70_180</th>\n",
       "      <th>time</th>\n",
       "      <th>time2</th>\n",
       "      <th>x1</th>\n",
       "      <th>x2</th>\n",
       "      <th>event</th>\n",
       "    </tr>\n",
       "  </thead>\n",
       "  <tbody>\n",
       "    <tr>\n",
       "      <th>0</th>\n",
       "      <td>EM016</td>\n",
       "      <td>87</td>\n",
       "      <td>1</td>\n",
       "      <td>0</td>\n",
       "      <td>5</td>\n",
       "      <td>1</td>\n",
       "      <td>0.606429</td>\n",
       "      <td>False</td>\n",
       "    </tr>\n",
       "    <tr>\n",
       "      <th>1</th>\n",
       "      <td>EM016</td>\n",
       "      <td>90</td>\n",
       "      <td>1</td>\n",
       "      <td>5</td>\n",
       "      <td>10</td>\n",
       "      <td>1</td>\n",
       "      <td>0.606429</td>\n",
       "      <td>False</td>\n",
       "    </tr>\n",
       "    <tr>\n",
       "      <th>2</th>\n",
       "      <td>EM016</td>\n",
       "      <td>93</td>\n",
       "      <td>1</td>\n",
       "      <td>10</td>\n",
       "      <td>15</td>\n",
       "      <td>1</td>\n",
       "      <td>0.606429</td>\n",
       "      <td>False</td>\n",
       "    </tr>\n",
       "    <tr>\n",
       "      <th>3</th>\n",
       "      <td>EM016</td>\n",
       "      <td>97</td>\n",
       "      <td>1</td>\n",
       "      <td>15</td>\n",
       "      <td>20</td>\n",
       "      <td>1</td>\n",
       "      <td>0.606429</td>\n",
       "      <td>False</td>\n",
       "    </tr>\n",
       "    <tr>\n",
       "      <th>4</th>\n",
       "      <td>EM016</td>\n",
       "      <td>103</td>\n",
       "      <td>1</td>\n",
       "      <td>20</td>\n",
       "      <td>25</td>\n",
       "      <td>1</td>\n",
       "      <td>0.606429</td>\n",
       "      <td>False</td>\n",
       "    </tr>\n",
       "  </tbody>\n",
       "</table>\n",
       "</div>"
      ],
      "text/plain": [
       "  patient_id  glucose  value_in_range_70_180  time  time2  x1        x2  event\n",
       "0      EM016       87                      1     0      5   1  0.606429  False\n",
       "1      EM016       90                      1     5     10   1  0.606429  False\n",
       "2      EM016       93                      1    10     15   1  0.606429  False\n",
       "3      EM016       97                      1    15     20   1  0.606429  False\n",
       "4      EM016      103                      1    20     25   1  0.606429  False"
      ]
     },
     "execution_count": 2,
     "metadata": {},
     "output_type": "execute_result"
    }
   ],
   "source": [
    "data = pd.read_csv('data/dataSample.csv')\n",
    "data.head()"
   ]
  },
  {
   "cell_type": "markdown",
   "metadata": {},
   "source": [
    "## Baseline characteristics\n",
    "\n",
    "We can check the baseline characteristics of *dataSample* using *tableone()* function from python package *TableOne*"
   ]
  },
  {
   "cell_type": "code",
   "execution_count": 3,
   "metadata": {},
   "outputs": [
    {
     "data": {
      "text/html": [
       "<div>\n",
       "<style scoped>\n",
       "    .dataframe tbody tr th:only-of-type {\n",
       "        vertical-align: middle;\n",
       "    }\n",
       "\n",
       "    .dataframe tbody tr th {\n",
       "        vertical-align: top;\n",
       "    }\n",
       "\n",
       "    .dataframe thead th {\n",
       "        text-align: right;\n",
       "    }\n",
       "</style>\n",
       "<table border=\"1\" class=\"dataframe\">\n",
       "  <thead>\n",
       "    <tr style=\"text-align: right;\">\n",
       "      <th></th>\n",
       "      <th></th>\n",
       "      <th>Missing</th>\n",
       "      <th>Overall</th>\n",
       "    </tr>\n",
       "  </thead>\n",
       "  <tbody>\n",
       "    <tr>\n",
       "      <th>n</th>\n",
       "      <th></th>\n",
       "      <td></td>\n",
       "      <td>41</td>\n",
       "    </tr>\n",
       "    <tr>\n",
       "      <th rowspan=\"2\" valign=\"top\">x1, n (%)</th>\n",
       "      <th>0</th>\n",
       "      <td>0</td>\n",
       "      <td>19 (46.3)</td>\n",
       "    </tr>\n",
       "    <tr>\n",
       "      <th>1</th>\n",
       "      <td></td>\n",
       "      <td>22 (53.7)</td>\n",
       "    </tr>\n",
       "    <tr>\n",
       "      <th>x2, mean (SD)</th>\n",
       "      <th></th>\n",
       "      <td>0</td>\n",
       "      <td>-0.0 (1.0)</td>\n",
       "    </tr>\n",
       "  </tbody>\n",
       "</table>\n",
       "</div><br />"
      ],
      "text/plain": [
       "                Missing     Overall\n",
       "n                                41\n",
       "x1, n (%)     0       0   19 (46.3)\n",
       "              1           22 (53.7)\n",
       "x2, mean (SD)         0  -0.0 (1.0)"
      ]
     },
     "execution_count": 3,
     "metadata": {},
     "output_type": "execute_result"
    }
   ],
   "source": [
    "data_baseline = data.groupby('patient_id').first().reset_index()\n",
    "columns = ['x1', 'x2']\n",
    "categorical = ['x1']\n",
    "table = TableOne(data_baseline, columns=columns, categorical=categorical)\n",
    "table"
   ]
  },
  {
   "cell_type": "markdown",
   "metadata": {},
   "source": [
    "## Calculate mean TIR with naive method\n",
    "Function *naive_est()* in our package calculates the naive estimator for mean TIR. Function *naive_est()* provides seven arguments.\n",
    "\n",
    "- data: a dataframe with the format similar to dataSample.\n",
    "- min_time: lower bound of time window of interest. The default is zero.\n",
    "- max_time: upper bound of time window of interest.\n",
    "- boot: number of bootstrap replicates used to obtain the standard error estimation. The default is 'NULL' which indicates bootstrap is not conducted.\n",
    "- id_col: parameter that indicates the column name of the subject identifier in data. The default is 'patient_id'.\n",
    "- time: parameter that indicates the column name of the time that the subject takes CGM in data. The default is 'time'.\n",
    "- value_in_range: parameter that indicates the column name of the indicator taht the CGM readings are whithin the target range.\n",
    "\n",
    "The following code is used to calculate mean TIR by the naive method with glucose range 70-180mg/dL, time window 0-3 days (0-4200 minutes)，and 20 bootstrap replicates."
   ]
  },
  {
   "cell_type": "code",
   "execution_count": 8,
   "metadata": {},
   "outputs": [],
   "source": [
    "est_naive = tir.naive_est(data, max_time = 4200, boot = 20, value_in_range = 'value_in_range_70_180')"
   ]
  },
  {
   "cell_type": "markdown",
   "metadata": {},
   "source": [
    "*niave_est()* resturns to a list structured as [estimate, standard error]"
   ]
  },
  {
   "cell_type": "code",
   "execution_count": 5,
   "metadata": {},
   "outputs": [
    {
     "data": {
      "text/plain": [
       "[0.570091724124689, 0.043516099101601285]"
      ]
     },
     "execution_count": 5,
     "metadata": {},
     "output_type": "execute_result"
    }
   ],
   "source": [
    "est_naive"
   ]
  },
  {
   "cell_type": "markdown",
   "metadata": {},
   "source": [
    "## Calculate mean TIR with the proposed method under non-informative patient's early discharge assumption\n",
    "\n",
    "Function *proposed_est_noninfo()* in our package calculates the proposed estimator for mean TIR under non-informative patient's early discharge assumption. Aruguments in *proposed_est_noninfo()* are same to that in *naive_est()*.\n",
    "\n",
    "The following code is used to calculate mean TIR by the proposed method under non-informative patient's early discharge assumption with glucose range 70-180mg/dL, time window 0-3 days (0-4200 minutes)，and 20 bootstrap replicates."
   ]
  },
  {
   "cell_type": "code",
   "execution_count": 6,
   "metadata": {},
   "outputs": [],
   "source": [
    "est_proposed_noninformative = tir.proposed_est_noninfo(data, max_time = 4200, boot = 20, value_in_range = 'value_in_range_70_180')"
   ]
  },
  {
   "cell_type": "markdown",
   "metadata": {},
   "source": [
    "*proposed_est_noninfo()* resturns to a list structured as [estimate, standard error]"
   ]
  },
  {
   "cell_type": "code",
   "execution_count": 7,
   "metadata": {},
   "outputs": [
    {
     "data": {
      "text/plain": [
       "[0.5802970829721782, 0.04086405187765693]"
      ]
     },
     "execution_count": 7,
     "metadata": {},
     "output_type": "execute_result"
    }
   ],
   "source": [
    "est_proposed_noninformative"
   ]
  },
  {
   "cell_type": "markdown",
   "metadata": {},
   "source": [
    "## Calculate mean TIR with the proposed method under Cox-model-based patient's early discharge assumption\n",
    "\n",
    "Function *proposed_est_cox()* in our package calculates the proposed estimator for mean TIR under non-informative patient's early discharge assumption. In addtion to the arguments \"data\", \"min_time\", \"max_time\", \"boot\", \"id_col\", and \"value_in_range\" used in *naive_est()* and *proposed_est_noninfo()*, *proposed_est_cox()* requires additional arguments:\n",
    "\n",
    "- start_col: parameter that indicates the column name for lower bound of single CGM reading interval. The default value is \"time\".\n",
    "- stop_col: parameter that indicates the column name for upper bound of single CGM reading interval. The default value is \"time2\".\n",
    "- event_col: parameter that indicates the column name for indicator of patient's discharge. The default value is \"event\".\n",
    "- formula: parameter that indicates the covariates considered to fit Cox's model. The formula has the format like \"x1+x2\".\n",
    "\n",
    "\n",
    "The following code is used to calculate mean TIR by the proposed method under Cox-model-based patient's early discharge assumption with glucose range 70-180mg/dL, time window 0-3 days (0-4200 minutes)，20 bootstrap replicates, and covariates \"x1\" and \"x2\"."
   ]
  },
  {
   "cell_type": "code",
   "execution_count": 10,
   "metadata": {},
   "outputs": [],
   "source": [
    "# A warning might be raised because of some coding style in lifelines to perform Cox regression.\n",
    "# It will NOT affect the results.\n",
    "# Here we ignore the warnings.\n",
    "# Comment the following two lines if you want to see the warnings.\n",
    "import warnings\n",
    "warnings.filterwarnings('ignore')\n",
    "\n",
    "est_proposed_cox = tir.proposed_est_cox(data, max_time = 4200, boot = 20, formula = 'x1+x2', value_in_range = 'value_in_range_70_180')"
   ]
  },
  {
   "cell_type": "markdown",
   "metadata": {},
   "source": [
    "*proposed_est_cox()* resturns to a list structured as [estimate, standard error]"
   ]
  },
  {
   "cell_type": "code",
   "execution_count": 11,
   "metadata": {},
   "outputs": [
    {
     "data": {
      "text/plain": [
       "[0.5812507573495849, 0.04282632878067873]"
      ]
     },
     "execution_count": 11,
     "metadata": {},
     "output_type": "execute_result"
    }
   ],
   "source": [
    "est_proposed_cox"
   ]
  }
 ],
 "metadata": {
  "kernelspec": {
   "display_name": "tir",
   "language": "python",
   "name": "python3"
  },
  "language_info": {
   "codemirror_mode": {
    "name": "ipython",
    "version": 3
   },
   "file_extension": ".py",
   "mimetype": "text/x-python",
   "name": "python",
   "nbconvert_exporter": "python",
   "pygments_lexer": "ipython3",
   "version": "3.10.12"
  }
 },
 "nbformat": 4,
 "nbformat_minor": 2
}
