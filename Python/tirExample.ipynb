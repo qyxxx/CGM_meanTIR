{
 "cells": [
  {
   "cell_type": "code",
   "execution_count": 1,
   "metadata": {},
   "outputs": [],
   "source": [
    "import numpy as np\n",
    "import pandas as pd\n",
    "from tableone import TableOne\n",
    "\n",
    "import sys\n",
    "sys.path.append('src/')\n",
    "import tir as tir"
   ]
  },
  {
   "cell_type": "markdown",
   "metadata": {},
   "source": [
    "## Load dataSample\n",
    "\n",
    "An input dataset for *tir* is a dataframe containing time to each CGM readings along with time-dependent or time-independent covariates of interest. The input dataset should take long format, where\n",
    "each row contains the information in one time interval in which a CGM is observed. As such, multiple rows in the dataset may correspond to one subject. \n",
    "\n",
    "*dataSample* is a simulated dataset perturbated from a real dataset. *dataSample* contains 50 subjects. For each subject, *dataSample* contains values for the following eight variables: *patient_id*, which is the unique identifier for each subject; *glucose*, which is the CGM reading; *time*, which records the time in minutes reading CGM; x1, which is a binary covariate; x2, which is a continuous covariate.\n"
   ]
  },
  {
   "cell_type": "code",
   "execution_count": 2,
   "metadata": {},
   "outputs": [
    {
     "data": {
      "text/html": [
       "<div>\n",
       "<style scoped>\n",
       "    .dataframe tbody tr th:only-of-type {\n",
       "        vertical-align: middle;\n",
       "    }\n",
       "\n",
       "    .dataframe tbody tr th {\n",
       "        vertical-align: top;\n",
       "    }\n",
       "\n",
       "    .dataframe thead th {\n",
       "        text-align: right;\n",
       "    }\n",
       "</style>\n",
       "<table border=\"1\" class=\"dataframe\">\n",
       "  <thead>\n",
       "    <tr style=\"text-align: right;\">\n",
       "      <th></th>\n",
       "      <th>patient_id</th>\n",
       "      <th>glucose</th>\n",
       "      <th>time</th>\n",
       "      <th>x1</th>\n",
       "      <th>x2</th>\n",
       "    </tr>\n",
       "  </thead>\n",
       "  <tbody>\n",
       "    <tr>\n",
       "      <th>0</th>\n",
       "      <td>EM016</td>\n",
       "      <td>87</td>\n",
       "      <td>0</td>\n",
       "      <td>1</td>\n",
       "      <td>0.606429</td>\n",
       "    </tr>\n",
       "    <tr>\n",
       "      <th>1</th>\n",
       "      <td>EM016</td>\n",
       "      <td>90</td>\n",
       "      <td>5</td>\n",
       "      <td>1</td>\n",
       "      <td>0.606429</td>\n",
       "    </tr>\n",
       "    <tr>\n",
       "      <th>2</th>\n",
       "      <td>EM016</td>\n",
       "      <td>93</td>\n",
       "      <td>10</td>\n",
       "      <td>1</td>\n",
       "      <td>0.606429</td>\n",
       "    </tr>\n",
       "    <tr>\n",
       "      <th>3</th>\n",
       "      <td>EM016</td>\n",
       "      <td>97</td>\n",
       "      <td>15</td>\n",
       "      <td>1</td>\n",
       "      <td>0.606429</td>\n",
       "    </tr>\n",
       "    <tr>\n",
       "      <th>4</th>\n",
       "      <td>EM016</td>\n",
       "      <td>103</td>\n",
       "      <td>20</td>\n",
       "      <td>1</td>\n",
       "      <td>0.606429</td>\n",
       "    </tr>\n",
       "  </tbody>\n",
       "</table>\n",
       "</div>"
      ],
      "text/plain": [
       "  patient_id  glucose  time  x1        x2\n",
       "0      EM016       87     0   1  0.606429\n",
       "1      EM016       90     5   1  0.606429\n",
       "2      EM016       93    10   1  0.606429\n",
       "3      EM016       97    15   1  0.606429\n",
       "4      EM016      103    20   1  0.606429"
      ]
     },
     "execution_count": 2,
     "metadata": {},
     "output_type": "execute_result"
    }
   ],
   "source": [
    "data = pd.read_csv('data/dataSample.csv')\n",
    "data.head()"
   ]
  },
  {
   "cell_type": "markdown",
   "metadata": {},
   "source": [
    "## Baseline characteristics\n",
    "\n",
    "We can check the baseline characteristics of *dataSample* using *tableone()* function from python package *TableOne*"
   ]
  },
  {
   "cell_type": "code",
   "execution_count": 3,
   "metadata": {},
   "outputs": [
    {
     "data": {
      "text/html": [
       "<div>\n",
       "<style scoped>\n",
       "    .dataframe tbody tr th:only-of-type {\n",
       "        vertical-align: middle;\n",
       "    }\n",
       "\n",
       "    .dataframe tbody tr th {\n",
       "        vertical-align: top;\n",
       "    }\n",
       "\n",
       "    .dataframe thead th {\n",
       "        text-align: right;\n",
       "    }\n",
       "</style>\n",
       "<table border=\"1\" class=\"dataframe\">\n",
       "  <thead>\n",
       "    <tr style=\"text-align: right;\">\n",
       "      <th></th>\n",
       "      <th></th>\n",
       "      <th>Missing</th>\n",
       "      <th>Overall</th>\n",
       "    </tr>\n",
       "  </thead>\n",
       "  <tbody>\n",
       "    <tr>\n",
       "      <th>n</th>\n",
       "      <th></th>\n",
       "      <td></td>\n",
       "      <td>41</td>\n",
       "    </tr>\n",
       "    <tr>\n",
       "      <th rowspan=\"2\" valign=\"top\">x1, n (%)</th>\n",
       "      <th>0</th>\n",
       "      <td>0</td>\n",
       "      <td>19 (46.3)</td>\n",
       "    </tr>\n",
       "    <tr>\n",
       "      <th>1</th>\n",
       "      <td></td>\n",
       "      <td>22 (53.7)</td>\n",
       "    </tr>\n",
       "    <tr>\n",
       "      <th>x2, mean (SD)</th>\n",
       "      <th></th>\n",
       "      <td>0</td>\n",
       "      <td>-0.0 (1.0)</td>\n",
       "    </tr>\n",
       "  </tbody>\n",
       "</table>\n",
       "</div><br />"
      ],
      "text/plain": [
       "                Missing     Overall\n",
       "n                                41\n",
       "x1, n (%)     0       0   19 (46.3)\n",
       "              1           22 (53.7)\n",
       "x2, mean (SD)         0  -0.0 (1.0)"
      ]
     },
     "execution_count": 3,
     "metadata": {},
     "output_type": "execute_result"
    }
   ],
   "source": [
    "data_baseline = data.groupby('patient_id').first().reset_index()\n",
    "columns = ['x1', 'x2']\n",
    "categorical = ['x1']\n",
    "table = TableOne(data_baseline, columns=columns, categorical=categorical)\n",
    "table"
   ]
  },
  {
   "cell_type": "markdown",
   "metadata": {},
   "source": [
    "## Main function for calculating mean TIR\n",
    "Function *estTIR()* in our package is the main function to calculate mean TIR. It has following arguments:\n",
    "\n",
    "- data: A long format data frame. An example dataframe is 'dataSample'.\n",
    "- time: A range of time for calculating TIR. '[a,b]' represents calculating TIR between time range from a to b.\n",
    "- range: A range of target glucose values. '[70,180]' represents calculating TIR 70-180 mg/dL.\n",
    "- method: Indicating the method used for calculating TIR. Values can be 'naive' and 'proposed' (default).\n",
    "- model: Used only when method = 'proposed'. Indicating the model for follow-up duration. Values can be 'NULL' (non-informative, default) and 'cox' (informative; Cox-modeled follow-up duration.) \n",
    "- formula: Indicating the covariates for the Cox's model. The formula has the format like \"x1+x2\".\n",
    "- boot: Number of bootstrap replicates used to obtain the standard error estimation. The default is 'NULL' which indicates bootstrap is not conducted.\n",
    "- id: Indicating the column name of the subject identifier in data. The default is 'patient_id'.\n",
    "- time_col: Indicating the column name of the time for reading CGM. The default is 'time'.\n",
    "- glucose: Indicating the column name of CGM readings. The default is 'glucose'.\n",
    "- period: Indicating the period of reading CGM. The default is 5 (minutes).\n",
    "\n",
    "Function *printTIR()* summary the results returned by *estTIR()*. If 'boot' is specified in *estTIR()*, *printTIR()* shows:\n",
    "\n",
    "- est: mean TIR estimation from the given dataset.\n",
    "- std err: standard error for mean TIR.\n",
    "- [0.025 0.975]: $95\\%$ confidence interval of mean TIR estimation.\n",
    "\n",
    "If 'boot' is not specified, *printTIR()* will only print mean TIR estimation."
   ]
  },
  {
   "cell_type": "markdown",
   "metadata": {},
   "source": [
    "### Calculating mean TIR with naive method. \n",
    "The following code is used to calculate mean TIR by the naive method with target glucose range 70-180mg/dL, time window 0-3 days (0-4200 minutes)，and 20 bootstrap replicates."
   ]
  },
  {
   "cell_type": "code",
   "execution_count": 6,
   "metadata": {},
   "outputs": [],
   "source": [
    "est_naive = tir.estTIR(data, method = 'naive', time = [0, 4200], range = [70,180], boot = 20)"
   ]
  },
  {
   "cell_type": "code",
   "execution_count": 7,
   "metadata": {},
   "outputs": [
    {
     "name": "stdout",
     "output_type": "stream",
     "text": [
      "      est  std err  [0.025  0.975]\n",
      "TIR  0.57    0.049   0.494   0.646\n"
     ]
    }
   ],
   "source": [
    "tir.printTIR(est_naive)"
   ]
  },
  {
   "cell_type": "markdown",
   "metadata": {},
   "source": [
    "### Calculate mean TIR with the proposed method under non-informative follow-up duration\n",
    "The following code is used to calculate mean TIR by the proposed method under non-informative patient's follow-up duration assumption with glucose range 70-180mg/dL, time window 0-3 days (0-4200 minutes)，and 20 bootstrap replicates."
   ]
  },
  {
   "cell_type": "code",
   "execution_count": 8,
   "metadata": {},
   "outputs": [],
   "source": [
    "est_proposed_noninformative = tir.estTIR(data, method = 'proposed',time = [0, 4200], range = [70,180], boot = 20)"
   ]
  },
  {
   "cell_type": "code",
   "execution_count": 9,
   "metadata": {},
   "outputs": [
    {
     "name": "stdout",
     "output_type": "stream",
     "text": [
      "      est  std err  [0.025  0.975]\n",
      "TIR  0.58    0.044   0.518   0.661\n"
     ]
    }
   ],
   "source": [
    "tir.printTIR(est_proposed_noninformative)"
   ]
  },
  {
   "cell_type": "markdown",
   "metadata": {},
   "source": [
    "### Calculate mean TIR with the proposed method under Cox-model-based follow-up duration\n",
    "The following code is used to calculate mean TIR by the proposed method under Cox-model-based follow-up duration with glucose range 70-180mg/dL, time window 0-3 days (0-4200 minutes)，20 bootstrap replicates, and covariates \"x1\" and \"x2\" with formula \"x1+x2\"."
   ]
  },
  {
   "cell_type": "code",
   "execution_count": 10,
   "metadata": {},
   "outputs": [],
   "source": [
    "# A warning might be raised because of some coding style in lifelines to perform Cox regression.\n",
    "# It will NOT affect the results.\n",
    "# Here we ignore the warnings.\n",
    "# Comment the following two lines if you want to see the warnings.\n",
    "import warnings\n",
    "warnings.filterwarnings('ignore')\n",
    "\n",
    "est_proposed_cox = tir.estTIR(data, method = 'proposed', model = 'cox', formula = 'x1+x2', time = [0, 4200], range = [70,180], boot = 20)"
   ]
  },
  {
   "cell_type": "code",
   "execution_count": 11,
   "metadata": {},
   "outputs": [
    {
     "name": "stdout",
     "output_type": "stream",
     "text": [
      "       est  std err  [0.025  0.975]\n",
      "TIR  0.581    0.032   0.523   0.634\n"
     ]
    }
   ],
   "source": [
    "tir.printTIR(est_proposed_cox)"
   ]
  }
 ],
 "metadata": {
  "kernelspec": {
   "display_name": "tir",
   "language": "python",
   "name": "python3"
  },
  "language_info": {
   "codemirror_mode": {
    "name": "ipython",
    "version": 3
   },
   "file_extension": ".py",
   "mimetype": "text/x-python",
   "name": "python",
   "nbconvert_exporter": "python",
   "pygments_lexer": "ipython3",
   "version": "3.10.12"
  }
 },
 "nbformat": 4,
 "nbformat_minor": 2
}
